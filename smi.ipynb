{
 "cells": [
  {
   "cell_type": "markdown",
   "metadata": {},
   "source": [
    "### Environment: \n",
    "conda install -c conda-forge matplotlib scipy jupyter mpld3  \n",
    "\n",
    "pip install opencv-python"
   ]
  },
  {
   "cell_type": "code",
   "execution_count": null,
   "metadata": {},
   "outputs": [],
   "source": [
    "import cv2\n",
    "import numpy as np\n",
    "from scipy import ndimage, signal, spatial"
   ]
  },
  {
   "cell_type": "code",
   "execution_count": null,
   "metadata": {},
   "outputs": [],
   "source": [
    "def idw(data):\n",
    "    valid = np.argwhere(~np.isnan(data))\n",
    "    tree = spatial.cKDTree(valid)\n",
    "    \n",
    "    nans = np.argwhere(np.isnan(data))    \n",
    "    for row in nans:\n",
    "        d, idx = tree.query(row, k=12) #k = number of nearest neighbors\n",
    "        d = np.power(d, -2) #each item in d raised to its reciprocated power (basis of idw) the value \"r\" also defines the smoothness of the interpolation\n",
    "        v = data[valid[idx, 0], valid[idx, 1]] \n",
    "        data[row[0], row[1]] = np.inner(v, d)/np.sum(d) #nans are replaced with the result of (v * d)/sum(d)\n",
    "        \n",
    "    return data"
   ]
  },
  {
   "cell_type": "code",
   "execution_count": null,
   "metadata": {},
   "outputs": [],
   "source": [
    "\n",
    "def smi(img):\n",
    "    rgb_bands = cv2.split(img)\n",
    "    interp_bands = []\n",
    "    for band in rgb_bands:\n",
    "        masked = np.where(sm, np.nan, band)\n",
    "        idw(masked)\n",
    "        interp_bands.append(masked)\n",
    "    result = cv2.merge(interp_bands)\n",
    "    return result.astype('uint8')\n",
    "\n"
   ]
  },
  {
   "cell_type": "code",
   "execution_count": null,
   "metadata": {},
   "outputs": [],
   "source": [
    "def prog(infile):\n",
    "    img = cv2.imread(infile)\n",
    "    rgb_bands = cv2.split(img)\n",
    "    red = rgb_bands[0].astype('float')\n",
    "    green = rgb_bands[1].astype('float')\n",
    "    blue = rgb_bands[2].astype('float')\n",
    "    nred = red * (red + green + blue)\n",
    "    nred_eroded = ndimage.grey_erosion(nred,size=3)\n",
    "    sm = nred_eroded < 4250\n",
    "    ip = smi(img)\n",
    "    outfile = infile.replace('.tif','_smi.tif')\n",
    "    cv2.imwrite(outfile,ip)\n"
   ]
  },
  {
   "cell_type": "code",
   "execution_count": null,
   "metadata": {},
   "outputs": [],
   "source": [
    "prog(r\"E:\\UNET\\256_patches\\images\\LNU2_Ortho_1536_23040.tifpatch_10.tif\")"
   ]
  },
  {
   "cell_type": "markdown",
   "metadata": {},
   "source": [
    "### Data visualization"
   ]
  },
  {
   "cell_type": "code",
   "execution_count": null,
   "metadata": {},
   "outputs": [],
   "source": [
    "# allows zoom feature\n",
    "import matplotlib.pyplot as plt\n",
    "%matplotlib inline\n",
    "import mpld3\n",
    "mpld3.enable_notebook()\n",
    "\n",
    "plt.rcParams[\"figure.figsize\"] = (15,15)"
   ]
  },
  {
   "cell_type": "code",
   "execution_count": null,
   "metadata": {},
   "outputs": [],
   "source": [
    "infile = r\"E:\\UNET\\256_patches\\images\\LNU2_Ortho_1536_23040.tifpatch_10.tif\"\n",
    "\n",
    "img = cv2.imread(infile)\n",
    "rgb_bands = cv2.split(img)\n",
    "red = rgb_bands[0]\n",
    "green = rgb_bands[1]\n",
    "blue = rgb_bands[2]\n",
    "red = red.astype('float')\n",
    "green = green.astype('float')\n",
    "blue = blue.astype('float')\n",
    "nred = red * (red + green + blue)\n",
    "nred_eroded = ndimage.grey_erosion(nred,size=3)\n",
    "sm = nred_eroded < 4250\n",
    "ip = smi(img)"
   ]
  },
  {
   "cell_type": "code",
   "execution_count": null,
   "metadata": {},
   "outputs": [],
   "source": [
    "fig, ax = plt.subplots(2, sharex=True, sharey=True, figsize=(20, 20))\n",
    "ax[0].imshow(img)\n",
    "#ax[0].contour(training_labels)\n",
    "ax[0].set_title('Pre-filter')\n",
    "ax[1].imshow(ip)\n",
    "ax[1].set_title('Post-filter')\n",
    "fig.tight_layout()"
   ]
  },
  {
   "cell_type": "code",
   "execution_count": null,
   "metadata": {},
   "outputs": [],
   "source": []
  }
 ],
 "metadata": {
  "kernelspec": {
   "display_name": "Python 3.9.12 ('p39')",
   "language": "python",
   "name": "python3"
  },
  "language_info": {
   "codemirror_mode": {
    "name": "ipython",
    "version": 3
   },
   "file_extension": ".py",
   "mimetype": "text/x-python",
   "name": "python",
   "nbconvert_exporter": "python",
   "pygments_lexer": "ipython3",
   "version": "3.9.12"
  },
  "orig_nbformat": 4,
  "vscode": {
   "interpreter": {
    "hash": "75ca7ea6e7fc0281ef7eb6d0f0bfb0bf91a433ab1fb9ab376721fe830ab06bf1"
   }
  }
 },
 "nbformat": 4,
 "nbformat_minor": 2
}
